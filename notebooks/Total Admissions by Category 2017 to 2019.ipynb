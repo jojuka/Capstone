{
 "cells": [
  {
   "cell_type": "code",
   "execution_count": 1,
   "id": "cbe1fae1",
   "metadata": {},
   "outputs": [],
   "source": [
    "import pandas as pd\n",
    "pd.options.display.float_format = '{:,.2f}'.format #this adds commas and limits decimals to 2 places"
   ]
  },
  {
   "cell_type": "code",
   "execution_count": 2,
   "id": "d61f1f56",
   "metadata": {},
   "outputs": [],
   "source": [
    "df=pd.read_csv(r\"C:\\Users\\jojuk\\Documents\\git\\projects\\Capstone\\data\\AdmissionsbyClass.csv\")"
   ]
  },
  {
   "cell_type": "code",
   "execution_count": 3,
   "id": "ff2f3242",
   "metadata": {},
   "outputs": [
    {
     "data": {
      "text/html": [
       "<div>\n",
       "<style scoped>\n",
       "    .dataframe tbody tr th:only-of-type {\n",
       "        vertical-align: middle;\n",
       "    }\n",
       "\n",
       "    .dataframe tbody tr th {\n",
       "        vertical-align: top;\n",
       "    }\n",
       "\n",
       "    .dataframe thead th {\n",
       "        text-align: right;\n",
       "    }\n",
       "</style>\n",
       "<table border=\"1\" class=\"dataframe\">\n",
       "  <thead>\n",
       "    <tr style=\"text-align: right;\">\n",
       "      <th></th>\n",
       "      <th>Year of Admission</th>\n",
       "      <th>Total all admissions</th>\n",
       "      <th>Total I-94 admissions</th>\n",
       "      <th>Temporary workers in specialty occupations (H1B)</th>\n",
       "      <th>Students</th>\n",
       "      <th>Academic students (F1)</th>\n",
       "      <th>Spouses and children of F1 (F2)</th>\n",
       "      <th>Vocational students (M1)</th>\n",
       "      <th>Spouses and children of M1 (M2)</th>\n",
       "      <th>Exchange visitors</th>\n",
       "      <th>Exchange visitors (J1)</th>\n",
       "      <th>Spouses and children of J1 (J2)</th>\n",
       "    </tr>\n",
       "  </thead>\n",
       "  <tbody>\n",
       "    <tr>\n",
       "      <th>0</th>\n",
       "      <td>2017</td>\n",
       "      <td>181100000</td>\n",
       "      <td>77643267</td>\n",
       "      <td>531280</td>\n",
       "      <td>1940171</td>\n",
       "      <td>1845739</td>\n",
       "      <td>74461</td>\n",
       "      <td>19129</td>\n",
       "      <td>842</td>\n",
       "      <td>594185</td>\n",
       "      <td>523864</td>\n",
       "      <td>70321</td>\n",
       "    </tr>\n",
       "    <tr>\n",
       "      <th>1</th>\n",
       "      <td>2018</td>\n",
       "      <td>186200000</td>\n",
       "      <td>81279692</td>\n",
       "      <td>570368</td>\n",
       "      <td>1957852</td>\n",
       "      <td>1862828</td>\n",
       "      <td>75344</td>\n",
       "      <td>18838</td>\n",
       "      <td>842</td>\n",
       "      <td>611373</td>\n",
       "      <td>537705</td>\n",
       "      <td>73668</td>\n",
       "    </tr>\n",
       "    <tr>\n",
       "      <th>2</th>\n",
       "      <td>2019</td>\n",
       "      <td>186200000</td>\n",
       "      <td>81563139</td>\n",
       "      <td>601594</td>\n",
       "      <td>1907176</td>\n",
       "      <td>1817724</td>\n",
       "      <td>70288</td>\n",
       "      <td>18385</td>\n",
       "      <td>779</td>\n",
       "      <td>620479</td>\n",
       "      <td>548717</td>\n",
       "      <td>71762</td>\n",
       "    </tr>\n",
       "  </tbody>\n",
       "</table>\n",
       "</div>"
      ],
      "text/plain": [
       "   Year of Admission  Total all admissions  Total I-94 admissions  \\\n",
       "0               2017             181100000               77643267   \n",
       "1               2018             186200000               81279692   \n",
       "2               2019             186200000               81563139   \n",
       "\n",
       "   Temporary workers in specialty occupations (H1B)  Students  \\\n",
       "0                                            531280   1940171   \n",
       "1                                            570368   1957852   \n",
       "2                                            601594   1907176   \n",
       "\n",
       "   Academic students (F1)  Spouses and children of F1 (F2)  \\\n",
       "0                 1845739                            74461   \n",
       "1                 1862828                            75344   \n",
       "2                 1817724                            70288   \n",
       "\n",
       "   Vocational students (M1)  Spouses and children of M1 (M2)  \\\n",
       "0                     19129                              842   \n",
       "1                     18838                              842   \n",
       "2                     18385                              779   \n",
       "\n",
       "   Exchange visitors  Exchange visitors (J1)  Spouses and children of J1 (J2)  \n",
       "0             594185                  523864                            70321  \n",
       "1             611373                  537705                            73668  \n",
       "2             620479                  548717                            71762  "
      ]
     },
     "execution_count": 3,
     "metadata": {},
     "output_type": "execute_result"
    }
   ],
   "source": [
    "df.round(5)"
   ]
  },
  {
   "cell_type": "code",
   "execution_count": 4,
   "id": "0a731755",
   "metadata": {},
   "outputs": [
    {
     "data": {
      "text/html": [
       "<div>\n",
       "<style scoped>\n",
       "    .dataframe tbody tr th:only-of-type {\n",
       "        vertical-align: middle;\n",
       "    }\n",
       "\n",
       "    .dataframe tbody tr th {\n",
       "        vertical-align: top;\n",
       "    }\n",
       "\n",
       "    .dataframe thead th {\n",
       "        text-align: right;\n",
       "    }\n",
       "</style>\n",
       "<table border=\"1\" class=\"dataframe\">\n",
       "  <thead>\n",
       "    <tr style=\"text-align: right;\">\n",
       "      <th></th>\n",
       "      <th>Year of Admission</th>\n",
       "      <th>Total all admissions</th>\n",
       "      <th>Total I-94 admissions</th>\n",
       "      <th>Temporary workers in specialty occupations (H1B)</th>\n",
       "      <th>Students</th>\n",
       "      <th>Academic students (F1)</th>\n",
       "      <th>Spouses and children of F1 (F2)</th>\n",
       "      <th>Vocational students (M1)</th>\n",
       "      <th>Spouses and children of M1 (M2)</th>\n",
       "      <th>Exchange visitors</th>\n",
       "      <th>Exchange visitors (J1)</th>\n",
       "      <th>Spouses and children of J1 (J2)</th>\n",
       "    </tr>\n",
       "  </thead>\n",
       "  <tbody>\n",
       "    <tr>\n",
       "      <th>count</th>\n",
       "      <td>3.00</td>\n",
       "      <td>3.00</td>\n",
       "      <td>3.00</td>\n",
       "      <td>3.00</td>\n",
       "      <td>3.00</td>\n",
       "      <td>3.00</td>\n",
       "      <td>3.00</td>\n",
       "      <td>3.00</td>\n",
       "      <td>3.00</td>\n",
       "      <td>3.00</td>\n",
       "      <td>3.00</td>\n",
       "      <td>3.00</td>\n",
       "    </tr>\n",
       "    <tr>\n",
       "      <th>mean</th>\n",
       "      <td>2,018.00</td>\n",
       "      <td>184,500,000.00</td>\n",
       "      <td>80,162,032.67</td>\n",
       "      <td>567,747.33</td>\n",
       "      <td>1,935,066.33</td>\n",
       "      <td>1,842,097.00</td>\n",
       "      <td>73,364.33</td>\n",
       "      <td>18,784.00</td>\n",
       "      <td>821.00</td>\n",
       "      <td>608,679.00</td>\n",
       "      <td>536,762.00</td>\n",
       "      <td>71,917.00</td>\n",
       "    </tr>\n",
       "    <tr>\n",
       "      <th>std</th>\n",
       "      <td>1.00</td>\n",
       "      <td>2,944,486.37</td>\n",
       "      <td>2,185,914.21</td>\n",
       "      <td>35,230.18</td>\n",
       "      <td>25,720.76</td>\n",
       "      <td>22,771.49</td>\n",
       "      <td>2,700.52</td>\n",
       "      <td>374.93</td>\n",
       "      <td>36.37</td>\n",
       "      <td>13,352.41</td>\n",
       "      <td>12,453.31</td>\n",
       "      <td>1,678.87</td>\n",
       "    </tr>\n",
       "    <tr>\n",
       "      <th>min</th>\n",
       "      <td>2,017.00</td>\n",
       "      <td>181,100,000.00</td>\n",
       "      <td>77,643,267.00</td>\n",
       "      <td>531,280.00</td>\n",
       "      <td>1,907,176.00</td>\n",
       "      <td>1,817,724.00</td>\n",
       "      <td>70,288.00</td>\n",
       "      <td>18,385.00</td>\n",
       "      <td>779.00</td>\n",
       "      <td>594,185.00</td>\n",
       "      <td>523,864.00</td>\n",
       "      <td>70,321.00</td>\n",
       "    </tr>\n",
       "    <tr>\n",
       "      <th>25%</th>\n",
       "      <td>2,017.50</td>\n",
       "      <td>183,650,000.00</td>\n",
       "      <td>79,461,479.50</td>\n",
       "      <td>550,824.00</td>\n",
       "      <td>1,923,673.50</td>\n",
       "      <td>1,831,731.50</td>\n",
       "      <td>72,374.50</td>\n",
       "      <td>18,611.50</td>\n",
       "      <td>810.50</td>\n",
       "      <td>602,779.00</td>\n",
       "      <td>530,784.50</td>\n",
       "      <td>71,041.50</td>\n",
       "    </tr>\n",
       "    <tr>\n",
       "      <th>50%</th>\n",
       "      <td>2,018.00</td>\n",
       "      <td>186,200,000.00</td>\n",
       "      <td>81,279,692.00</td>\n",
       "      <td>570,368.00</td>\n",
       "      <td>1,940,171.00</td>\n",
       "      <td>1,845,739.00</td>\n",
       "      <td>74,461.00</td>\n",
       "      <td>18,838.00</td>\n",
       "      <td>842.00</td>\n",
       "      <td>611,373.00</td>\n",
       "      <td>537,705.00</td>\n",
       "      <td>71,762.00</td>\n",
       "    </tr>\n",
       "    <tr>\n",
       "      <th>75%</th>\n",
       "      <td>2,018.50</td>\n",
       "      <td>186,200,000.00</td>\n",
       "      <td>81,421,415.50</td>\n",
       "      <td>585,981.00</td>\n",
       "      <td>1,949,011.50</td>\n",
       "      <td>1,854,283.50</td>\n",
       "      <td>74,902.50</td>\n",
       "      <td>18,983.50</td>\n",
       "      <td>842.00</td>\n",
       "      <td>615,926.00</td>\n",
       "      <td>543,211.00</td>\n",
       "      <td>72,715.00</td>\n",
       "    </tr>\n",
       "    <tr>\n",
       "      <th>max</th>\n",
       "      <td>2,019.00</td>\n",
       "      <td>186,200,000.00</td>\n",
       "      <td>81,563,139.00</td>\n",
       "      <td>601,594.00</td>\n",
       "      <td>1,957,852.00</td>\n",
       "      <td>1,862,828.00</td>\n",
       "      <td>75,344.00</td>\n",
       "      <td>19,129.00</td>\n",
       "      <td>842.00</td>\n",
       "      <td>620,479.00</td>\n",
       "      <td>548,717.00</td>\n",
       "      <td>73,668.00</td>\n",
       "    </tr>\n",
       "  </tbody>\n",
       "</table>\n",
       "</div>"
      ],
      "text/plain": [
       "       Year of Admission  Total all admissions  Total I-94 admissions  \\\n",
       "count               3.00                  3.00                   3.00   \n",
       "mean            2,018.00        184,500,000.00          80,162,032.67   \n",
       "std                 1.00          2,944,486.37           2,185,914.21   \n",
       "min             2,017.00        181,100,000.00          77,643,267.00   \n",
       "25%             2,017.50        183,650,000.00          79,461,479.50   \n",
       "50%             2,018.00        186,200,000.00          81,279,692.00   \n",
       "75%             2,018.50        186,200,000.00          81,421,415.50   \n",
       "max             2,019.00        186,200,000.00          81,563,139.00   \n",
       "\n",
       "       Temporary workers in specialty occupations (H1B)     Students  \\\n",
       "count                                              3.00         3.00   \n",
       "mean                                         567,747.33 1,935,066.33   \n",
       "std                                           35,230.18    25,720.76   \n",
       "min                                          531,280.00 1,907,176.00   \n",
       "25%                                          550,824.00 1,923,673.50   \n",
       "50%                                          570,368.00 1,940,171.00   \n",
       "75%                                          585,981.00 1,949,011.50   \n",
       "max                                          601,594.00 1,957,852.00   \n",
       "\n",
       "       Academic students (F1)  Spouses and children of F1 (F2)  \\\n",
       "count                    3.00                             3.00   \n",
       "mean             1,842,097.00                        73,364.33   \n",
       "std                 22,771.49                         2,700.52   \n",
       "min              1,817,724.00                        70,288.00   \n",
       "25%              1,831,731.50                        72,374.50   \n",
       "50%              1,845,739.00                        74,461.00   \n",
       "75%              1,854,283.50                        74,902.50   \n",
       "max              1,862,828.00                        75,344.00   \n",
       "\n",
       "       Vocational students (M1)  Spouses and children of M1 (M2)  \\\n",
       "count                      3.00                             3.00   \n",
       "mean                  18,784.00                           821.00   \n",
       "std                      374.93                            36.37   \n",
       "min                   18,385.00                           779.00   \n",
       "25%                   18,611.50                           810.50   \n",
       "50%                   18,838.00                           842.00   \n",
       "75%                   18,983.50                           842.00   \n",
       "max                   19,129.00                           842.00   \n",
       "\n",
       "       Exchange visitors  Exchange visitors (J1)  \\\n",
       "count               3.00                    3.00   \n",
       "mean          608,679.00              536,762.00   \n",
       "std            13,352.41               12,453.31   \n",
       "min           594,185.00              523,864.00   \n",
       "25%           602,779.00              530,784.50   \n",
       "50%           611,373.00              537,705.00   \n",
       "75%           615,926.00              543,211.00   \n",
       "max           620,479.00              548,717.00   \n",
       "\n",
       "       Spouses and children of J1 (J2)  \n",
       "count                             3.00  \n",
       "mean                         71,917.00  \n",
       "std                           1,678.87  \n",
       "min                          70,321.00  \n",
       "25%                          71,041.50  \n",
       "50%                          71,762.00  \n",
       "75%                          72,715.00  \n",
       "max                          73,668.00  "
      ]
     },
     "execution_count": 4,
     "metadata": {},
     "output_type": "execute_result"
    }
   ],
   "source": [
    "df.describe()#.round()"
   ]
  },
  {
   "cell_type": "code",
   "execution_count": 5,
   "id": "b878b9f7",
   "metadata": {},
   "outputs": [
    {
     "name": "stdout",
     "output_type": "stream",
     "text": [
      "<class 'pandas.core.frame.DataFrame'>\n",
      "RangeIndex: 3 entries, 0 to 2\n",
      "Data columns (total 12 columns):\n",
      " #   Column                                            Non-Null Count  Dtype\n",
      "---  ------                                            --------------  -----\n",
      " 0   Year of Admission                                 3 non-null      int64\n",
      " 1   Total all admissions                              3 non-null      int64\n",
      " 2   Total I-94 admissions                             3 non-null      int64\n",
      " 3   Temporary workers in specialty occupations (H1B)  3 non-null      int64\n",
      " 4   Students                                          3 non-null      int64\n",
      " 5   Academic students (F1)                            3 non-null      int64\n",
      " 6   Spouses and children of F1 (F2)                   3 non-null      int64\n",
      " 7   Vocational students (M1)                          3 non-null      int64\n",
      " 8   Spouses and children of M1 (M2)                   3 non-null      int64\n",
      " 9   Exchange visitors                                 3 non-null      int64\n",
      " 10  Exchange visitors (J1)                            3 non-null      int64\n",
      " 11  Spouses and children of J1 (J2)                   3 non-null      int64\n",
      "dtypes: int64(12)\n",
      "memory usage: 416.0 bytes\n"
     ]
    }
   ],
   "source": [
    "df.info()"
   ]
  },
  {
   "cell_type": "code",
   "execution_count": 6,
   "id": "da7dd9d5",
   "metadata": {},
   "outputs": [
    {
     "data": {
      "text/html": [
       "<div>\n",
       "<style scoped>\n",
       "    .dataframe tbody tr th:only-of-type {\n",
       "        vertical-align: middle;\n",
       "    }\n",
       "\n",
       "    .dataframe tbody tr th {\n",
       "        vertical-align: top;\n",
       "    }\n",
       "\n",
       "    .dataframe thead th {\n",
       "        text-align: right;\n",
       "    }\n",
       "</style>\n",
       "<table border=\"1\" class=\"dataframe\">\n",
       "  <thead>\n",
       "    <tr style=\"text-align: right;\">\n",
       "      <th></th>\n",
       "      <th>Year of Admission</th>\n",
       "      <th>Total all admissions</th>\n",
       "      <th>Total I-94 admissions</th>\n",
       "      <th>Temporary workers in specialty occupations (H1B)</th>\n",
       "      <th>Students</th>\n",
       "      <th>Academic students (F1)</th>\n",
       "      <th>Spouses and children of F1 (F2)</th>\n",
       "      <th>Vocational students (M1)</th>\n",
       "      <th>Spouses and children of M1 (M2)</th>\n",
       "      <th>Exchange visitors</th>\n",
       "      <th>Exchange visitors (J1)</th>\n",
       "      <th>Spouses and children of J1 (J2)</th>\n",
       "    </tr>\n",
       "  </thead>\n",
       "  <tbody>\n",
       "    <tr>\n",
       "      <th>0</th>\n",
       "      <td>2017</td>\n",
       "      <td>181100000</td>\n",
       "      <td>77643267</td>\n",
       "      <td>531280</td>\n",
       "      <td>1940171</td>\n",
       "      <td>1845739</td>\n",
       "      <td>74461</td>\n",
       "      <td>19129</td>\n",
       "      <td>842</td>\n",
       "      <td>594185</td>\n",
       "      <td>523864</td>\n",
       "      <td>70321</td>\n",
       "    </tr>\n",
       "    <tr>\n",
       "      <th>1</th>\n",
       "      <td>2018</td>\n",
       "      <td>186200000</td>\n",
       "      <td>81279692</td>\n",
       "      <td>570368</td>\n",
       "      <td>1957852</td>\n",
       "      <td>1862828</td>\n",
       "      <td>75344</td>\n",
       "      <td>18838</td>\n",
       "      <td>842</td>\n",
       "      <td>611373</td>\n",
       "      <td>537705</td>\n",
       "      <td>73668</td>\n",
       "    </tr>\n",
       "    <tr>\n",
       "      <th>2</th>\n",
       "      <td>2019</td>\n",
       "      <td>186200000</td>\n",
       "      <td>81563139</td>\n",
       "      <td>601594</td>\n",
       "      <td>1907176</td>\n",
       "      <td>1817724</td>\n",
       "      <td>70288</td>\n",
       "      <td>18385</td>\n",
       "      <td>779</td>\n",
       "      <td>620479</td>\n",
       "      <td>548717</td>\n",
       "      <td>71762</td>\n",
       "    </tr>\n",
       "  </tbody>\n",
       "</table>\n",
       "</div>"
      ],
      "text/plain": [
       "   Year of Admission  Total all admissions  Total I-94 admissions  \\\n",
       "0               2017             181100000               77643267   \n",
       "1               2018             186200000               81279692   \n",
       "2               2019             186200000               81563139   \n",
       "\n",
       "   Temporary workers in specialty occupations (H1B)  Students  \\\n",
       "0                                            531280   1940171   \n",
       "1                                            570368   1957852   \n",
       "2                                            601594   1907176   \n",
       "\n",
       "   Academic students (F1)  Spouses and children of F1 (F2)  \\\n",
       "0                 1845739                            74461   \n",
       "1                 1862828                            75344   \n",
       "2                 1817724                            70288   \n",
       "\n",
       "   Vocational students (M1)  Spouses and children of M1 (M2)  \\\n",
       "0                     19129                              842   \n",
       "1                     18838                              842   \n",
       "2                     18385                              779   \n",
       "\n",
       "   Exchange visitors  Exchange visitors (J1)  Spouses and children of J1 (J2)  \n",
       "0             594185                  523864                            70321  \n",
       "1             611373                  537705                            73668  \n",
       "2             620479                  548717                            71762  "
      ]
     },
     "execution_count": 6,
     "metadata": {},
     "output_type": "execute_result"
    }
   ],
   "source": [
    "df"
   ]
  },
  {
   "cell_type": "markdown",
   "id": "c2e7c5a6",
   "metadata": {},
   "source": [
    "Students =   Academic students (F1), Spouses and children of F1 (F2), Vocational students (M1), Spouses and children of M1 (M2)"
   ]
  },
  {
   "cell_type": "markdown",
   "id": "a20e482d",
   "metadata": {},
   "source": [
    "** Total Admissions from 2017 to 2019\n",
    "\"Estimated admission totals rounded to the nearest hundred thousand\"\n",
    "Source: https://www.dhs.gov/immigration-statistics/yearbook/2019/table25"
   ]
  },
  {
   "cell_type": "code",
   "execution_count": 7,
   "id": "f8c46161",
   "metadata": {},
   "outputs": [
    {
     "name": "stdout",
     "output_type": "stream",
     "text": [
      "553500000\n"
     ]
    }
   ],
   "source": [
    "df_sum_Tadmissions = df['Total all admissions'].sum()\n",
    "print(df_sum_Tadmissions)"
   ]
  },
  {
   "cell_type": "markdown",
   "id": "163baa75",
   "metadata": {},
   "source": [
    "** Total I-94/NonImmigrant Admissions from 2017 to 2019"
   ]
  },
  {
   "cell_type": "code",
   "execution_count": 8,
   "id": "ea4ff513",
   "metadata": {},
   "outputs": [
    {
     "name": "stdout",
     "output_type": "stream",
     "text": [
      "240486098\n"
     ]
    }
   ],
   "source": [
    "#pd.options.display.float_format = '{:,}'.format\n",
    "df_sum_Iadmissions = df['Total I-94 admissions'].sum()\n",
    "print(df_sum_Iadmissions)"
   ]
  },
  {
   "cell_type": "markdown",
   "id": "2144c743",
   "metadata": {},
   "source": [
    "**NonImmigrant Admissions as a Percentage of Total Admissions from 2017 to 2019"
   ]
  },
  {
   "cell_type": "code",
   "execution_count": 9,
   "id": "23a7bf4e",
   "metadata": {},
   "outputs": [
    {
     "data": {
      "text/plain": [
       "43.44825618789521"
      ]
     },
     "execution_count": 9,
     "metadata": {},
     "output_type": "execute_result"
    }
   ],
   "source": [
    "Perc_Iadmissions=df_sum_Iadmissions/df_sum_Tadmissions*100\n",
    "Perc_Iadmissions"
   ]
  },
  {
   "cell_type": "markdown",
   "id": "86000d50",
   "metadata": {},
   "source": [
    "**** Total F1 Admissions from 2017 to 2019"
   ]
  },
  {
   "cell_type": "code",
   "execution_count": 10,
   "id": "3e8458e1",
   "metadata": {},
   "outputs": [
    {
     "name": "stdout",
     "output_type": "stream",
     "text": [
      "5526291\n"
     ]
    }
   ],
   "source": [
    "df_sum_Fadmissions = df['Academic students (F1)'].sum()\n",
    "print(df_sum_Fadmissions) "
   ]
  },
  {
   "cell_type": "markdown",
   "id": "3a0a85ef",
   "metadata": {},
   "source": [
    "**F1 Admissions as a Percentage of all I94 Admissions from 2017 to 2019"
   ]
  },
  {
   "cell_type": "code",
   "execution_count": 11,
   "id": "2594a6e3",
   "metadata": {},
   "outputs": [
    {
     "data": {
      "text/plain": [
       "2.297966928633022"
      ]
     },
     "execution_count": 11,
     "metadata": {},
     "output_type": "execute_result"
    }
   ],
   "source": [
    "Perc_FadmissionT = df_sum_Fadmissions/df_sum_Iadmissions*100\n",
    "Perc_FadmissionT"
   ]
  },
  {
   "cell_type": "markdown",
   "id": "d1c9abd8",
   "metadata": {},
   "source": [
    "** Total Student Admissions from 2017 to 2019"
   ]
  },
  {
   "cell_type": "code",
   "execution_count": 12,
   "id": "414c92e8",
   "metadata": {},
   "outputs": [
    {
     "name": "stdout",
     "output_type": "stream",
     "text": [
      "5805199\n"
     ]
    }
   ],
   "source": [
    "df_sum_Sadmissions = df['Students'].sum()\n",
    "print(df_sum_Sadmissions)"
   ]
  },
  {
   "cell_type": "markdown",
   "id": "fea3e974",
   "metadata": {},
   "source": [
    "**F1 Admissions as a Percentage of all I94 Student Admissions from 2017 to 2019"
   ]
  },
  {
   "cell_type": "code",
   "execution_count": 13,
   "id": "9373f939",
   "metadata": {},
   "outputs": [
    {
     "data": {
      "text/plain": [
       "95.19554799068904"
      ]
     },
     "execution_count": 13,
     "metadata": {},
     "output_type": "execute_result"
    }
   ],
   "source": [
    "Perc_FadmissionS = df_sum_Fadmissions/df_sum_Sadmissions*100\n",
    "Perc_FadmissionS"
   ]
  },
  {
   "cell_type": "markdown",
   "id": "3b0140b7",
   "metadata": {},
   "source": [
    "** Total H1B Admissions from 2017 to 2019"
   ]
  },
  {
   "cell_type": "code",
   "execution_count": 14,
   "id": "b41f8812",
   "metadata": {},
   "outputs": [
    {
     "name": "stdout",
     "output_type": "stream",
     "text": [
      "1703242\n"
     ]
    }
   ],
   "source": [
    "df_sum_Hadmissions = df['Temporary workers in specialty occupations (H1B)'].sum()\n",
    "print(df_sum_Hadmissions)"
   ]
  },
  {
   "cell_type": "markdown",
   "id": "3cf77094",
   "metadata": {},
   "source": [
    "**H1B Admissions as a Percentage of all F1 Student Admissions from 2017 to 2019"
   ]
  },
  {
   "cell_type": "code",
   "execution_count": 15,
   "id": "c66e2baa",
   "metadata": {},
   "outputs": [
    {
     "data": {
      "text/plain": [
       "30.82070777669869"
      ]
     },
     "execution_count": 15,
     "metadata": {},
     "output_type": "execute_result"
    }
   ],
   "source": [
    "Perc_HadmissionF = df_sum_Hadmissions/df_sum_Fadmissions*100\n",
    "Perc_HadmissionF"
   ]
  },
  {
   "cell_type": "markdown",
   "id": "47d0731b",
   "metadata": {},
   "source": [
    "** Total Exchange Visitors Admissions from 2017 to 2019"
   ]
  },
  {
   "cell_type": "code",
   "execution_count": 17,
   "id": "526c8a09",
   "metadata": {},
   "outputs": [
    {
     "name": "stdout",
     "output_type": "stream",
     "text": [
      "1826037\n"
     ]
    }
   ],
   "source": [
    "df_sum_Eadmissions = df['Exchange visitors'].sum()\n",
    "print(df_sum_Eadmissions)"
   ]
  },
  {
   "cell_type": "markdown",
   "id": "829d8d15",
   "metadata": {},
   "source": [
    "**Total Students and Exchange Visitors = Includes principals, spouses, and children (F1, F2, J1, J2, M1, and M2 admissions) for 2017 to 2019"
   ]
  },
  {
   "cell_type": "code",
   "execution_count": 18,
   "id": "4a71a028",
   "metadata": {},
   "outputs": [
    {
     "data": {
      "text/plain": [
       "7631236"
      ]
     },
     "execution_count": 18,
     "metadata": {},
     "output_type": "execute_result"
    }
   ],
   "source": [
    "df_sum_SEAdmsiions = df_sum_Sadmissions + df_sum_Eadmissions\n",
    "df_sum_SEAdmsiions"
   ]
  },
  {
   "cell_type": "markdown",
   "id": "40b8cf5e",
   "metadata": {},
   "source": [
    "Labelling on chart changed from column names as per Homeland Security definition of Admission to provide clarity. \n",
    "To layman, admission can refer to acceptance of an application into college. \n",
    "However ,per Homeland Security, admission refers to any category of visa approval. \n",
    "Classes of admission include immigrant and nonimmigrant such as  student"
   ]
  },
  {
   "cell_type": "code",
   "execution_count": 19,
   "id": "2bfca270",
   "metadata": {},
   "outputs": [
    {
     "data": {
      "text/plain": [
       "<AxesSubplot:>"
      ]
     },
     "execution_count": 19,
     "metadata": {},
     "output_type": "execute_result"
    },
    {
     "data": {
      "image/png": "[encoded data removed]",
      "text/plain": [
       "<Figure size 432x288 with 1 Axes>"
      ]
     },
     "metadata": {
      "needs_background": "light"
     },
     "output_type": "display_data"
    }
   ],
   "source": [
    "# bar chart -  distribution of a categorical variable\n",
    "df['Total I-94 admissions'].value_counts().plot.bar()"
   ]
  },
  {
   "cell_type": "code",
   "execution_count": 38,
   "id": "c1774bb7",
   "metadata": {},
   "outputs": [
    {
     "data": {
      "image/png": "[encoded data removed]",
      "text/plain": [
       "<Figure size 1440x720 with 1 Axes>"
      ]
     },
     "metadata": {
      "needs_background": "light"
     },
     "output_type": "display_data"
    }
   ],
   "source": [
    "import numpy as np\n",
    "import matplotlib.pyplot as plt\n",
    "\n",
    "plt.figure(figsize = (20, 10))\n",
    "  \n",
    "N = 3\n",
    "ind = np.arange(N) \n",
    "width = 0.25\n",
    "  \n",
    "xvals = df['Academic students (F1)']\n",
    "bar1 = plt.bar(ind, xvals, width, color = 'b')\n",
    "  \n",
    "yvals = df['Exchange visitors']\n",
    "bar2 = plt.bar(ind+width, yvals, width, color='c')\n",
    "  \n",
    "zvals = df['Temporary workers in specialty occupations (H1B)']\n",
    "bar3 = plt.bar(ind+width*2, zvals, width, color = 'g')\n",
    "  \n",
    "plt.xlabel(\"Year of Admission\", fontsize =18)\n",
    "plt.ylabel('Number of Admissions', fontsize =18)\n",
    "#plt.title('U.S  Education Related Immigration by  Visa Category, 2017 to 2019')\n",
    "\n",
    "  \n",
    "plt.ticklabel_format(style='plain') #to remove scientific chart notation\n",
    "plt.xticks(ind+width,['2017', '2018', '2019'])\n",
    "\n",
    "plt.legend( (bar1, bar2, bar3), ('Academic students', 'Exchange visitors', 'Temporary Workers in Specialty Occupations'))\n",
    "\n",
    "#plt.legend(loc='center left', bbox_to_anchor=(1, 0.5))\n",
    "\n",
    "\n",
    "\n",
    "plt.show()\n",
    "\n",
    "#fig.savefig('U.S  Immigration by  Visa Category, 2017 to 2019')"
   ]
  },
  {
   "cell_type": "code",
   "execution_count": 20,
   "id": "c3f05c8e",
   "metadata": {},
   "outputs": [
    {
     "data": {
      "image/png": "[encoded data removed]",
      "text/plain": [
       "<Figure size 1440x720 with 1 Axes>"
      ]
     },
     "metadata": {
      "needs_background": "light"
     },
     "output_type": "display_data"
    }
   ],
   "source": [
    "import numpy as np\n",
    "import matplotlib.pyplot as plt\n",
    "\n",
    "plt.figure(figsize = (20, 10))\n",
    "  \n",
    "N = 3\n",
    "ind = np.arange(N) \n",
    "width = 0.25\n",
    "  \n",
    "xvals = df['Total all admissions']\n",
    "bar1 = plt.bar(ind, xvals, width, color = 'b')\n",
    "  \n",
    "yvals = df['Total I-94 admissions']\n",
    "bar2 = plt.bar(ind+width, yvals, width, color='c')\n",
    "  \n",
    "zvals = df['Academic students (F1)']\n",
    "bar3 = plt.bar(ind+width*2, zvals, width, color = 'g')\n",
    "  \n",
    "plt.xlabel(\"Year of Admission\", fontsize =18)\n",
    "plt.ylabel('Number of Admissions', fontsize =18)\n",
    "plt.title('U.S  Immigration by  Visa Category, 2017 to 2019')\n",
    "  \n",
    "plt.ticklabel_format(style='plain') #to remove scientific chart notation\n",
    "plt.xticks(ind+width,['2017', '2018', '2019'])\n",
    "\n",
    "plt.legend( (bar1, bar2, bar3), ('All U.S. Visa Categories - Immigrant and NonImmigrant(I-94)', 'All NonImmigrant(I-94) Visa Categories', 'All NonImmigrant(I-94) Visa Categories, Academic Students (F1) Only')) \n",
    "\n",
    "#plt.legend(loc='center left', bbox_to_anchor=(1, 0.5))\n",
    "\n",
    "# function to add value labels\n",
    "def addlabels(xvals,yvals, zvals):\n",
    "    for i in range(len(xvals)):\n",
    "        plt.text(i,yvals[i],yvals[i])\n",
    "addlabels(xvals, yvals, zvals)\n",
    "\n",
    "plt.show()\n",
    "\n",
    "#fig.savefig('U.S  Immigration by  Visa Category, 2017 to 2019')"
   ]
  },
  {
   "cell_type": "markdown",
   "id": "43e57b75",
   "metadata": {},
   "source": [
    "Proportion of Student visas to all NonImmigrant visa categories. \n",
    "\"Nonimmigrants are foreign nationals who are admitted for a designated period of time and a specific purpose.\"\n",
    "NonImmigrant visas are all temporary statuses and classifed as:\n",
    "    tourism or business\n",
    "    study - academic/college (F1), exchange programs(J1), nonacedmic/vocational(M1)\n",
    "    work\n",
    "Within the 3 main visa classes there are 24 subclassess from B2 to S5 accoring to \"their subsection in the Immigration and Nationality Act (INA)\"\n",
    "\n",
    "Source:https://sgp.fas.org/crs/homesec/R45040.pdf"
   ]
  },
  {
   "cell_type": "code",
   "execution_count": 55,
   "id": "7df21d20",
   "metadata": {},
   "outputs": [
    {
     "data": {
      "image/png": "[encoded data removed]",
      "text/plain": [
       "<Figure size 1440x720 with 1 Axes>"
      ]
     },
     "metadata": {},
     "output_type": "display_data"
    }
   ],
   "source": [
    "plt.figure(figsize = (20, 10))\n",
    "  \n",
    "import matplotlib.pyplot as plt\n",
    "import numpy as np\n",
    "\n",
    "\n",
    "y = np.array([df_sum_Tadmissions, df_sum_Iadmissions])\n",
    "\n",
    "mylabels = [\"Immigrant\", \"NonImmigrant\"]\n",
    "\n",
    "#plt.title(label='U.S  Immigration - NonImmigrant versus Immigrant Visa Categories, 2017 to 2019', loc='left', fontstyle='italic')\n",
    "\n",
    "plt.pie(y, labels=mylabels)\n",
    "plt.legend()\n",
    "plt.legend(title = \"Visa Categories:\", loc=\"lower left\")\n",
    "\n",
    "plt.show() \n",
    "\n",
    "#fig.savefig('U.S  Immigration by  Visa Category, 2017 to 2019')"
   ]
  }
 ],
 "metadata": {
  "kernelspec": {
   "display_name": "Python 3",
   "language": "python",
   "name": "python3"
  },
  "language_info": {
   "codemirror_mode": {
    "name": "ipython",
    "version": 3
   },
   "file_extension": ".py",
   "mimetype": "text/x-python",
   "name": "python",
   "nbconvert_exporter": "python",
   "pygments_lexer": "ipython3",
   "version": "3.8.8"
  }
 },
 "nbformat": 4,
 "nbformat_minor": 5
}
