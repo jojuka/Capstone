{
 "cells": [
  {
   "cell_type": "code",
   "execution_count": 18,
   "id": "2206c2bf",
   "metadata": {},
   "outputs": [],
   "source": [
    "import pandas as pd\n",
    "pd.options.display.float_format = '{:,.2f}'.format #this adds commas and limits decimals to 2 places"
   ]
  },
  {
   "cell_type": "code",
   "execution_count": 19,
   "id": "61795929",
   "metadata": {},
   "outputs": [],
   "source": [
    "df=pd.read_csv(r\"C:\\Users\\jojuk\\Documents\\git\\projects\\Capstone\\data\\Capstone - Age and Sex at Admission Combined Years Clean.csv\")"
   ]
  },
  {
   "cell_type": "code",
   "execution_count": 20,
   "id": "171b0f1f",
   "metadata": {},
   "outputs": [
    {
     "data": {
      "text/html": [
       "<div>\n",
       "<style scoped>\n",
       "    .dataframe tbody tr th:only-of-type {\n",
       "        vertical-align: middle;\n",
       "    }\n",
       "\n",
       "    .dataframe tbody tr th {\n",
       "        vertical-align: top;\n",
       "    }\n",
       "\n",
       "    .dataframe thead th {\n",
       "        text-align: right;\n",
       "    }\n",
       "</style>\n",
       "<table border=\"1\" class=\"dataframe\">\n",
       "  <thead>\n",
       "    <tr style=\"text-align: right;\">\n",
       "      <th></th>\n",
       "      <th>Grouping</th>\n",
       "      <th>Total</th>\n",
       "      <th>Under 5 years</th>\n",
       "      <th>5 to 9 years</th>\n",
       "      <th>10 to 14 years</th>\n",
       "      <th>15 to 19 years</th>\n",
       "      <th>20 to 24 years</th>\n",
       "      <th>25 to 29 years</th>\n",
       "      <th>30 to 34 years</th>\n",
       "      <th>35 to 39 years</th>\n",
       "      <th>40 to 44 years</th>\n",
       "      <th>45 to 49 years</th>\n",
       "      <th>50 to 54 years</th>\n",
       "      <th>55 to 59 years</th>\n",
       "      <th>60 to 64 years</th>\n",
       "      <th>65 years and over</th>\n",
       "      <th>Unknown age</th>\n",
       "      <th>Year</th>\n",
       "    </tr>\n",
       "  </thead>\n",
       "  <tbody>\n",
       "    <tr>\n",
       "      <th>0</th>\n",
       "      <td>Total All Classes</td>\n",
       "      <td>81,563,139</td>\n",
       "      <td>1,430,271</td>\n",
       "      <td>2,315,233</td>\n",
       "      <td>2,836,873</td>\n",
       "      <td>3,618,339</td>\n",
       "      <td>5,616,480</td>\n",
       "      <td>7,945,692</td>\n",
       "      <td>8,777,437</td>\n",
       "      <td>8,205,852</td>\n",
       "      <td>7,812,450</td>\n",
       "      <td>7,736,403</td>\n",
       "      <td>7,039,259</td>\n",
       "      <td>6,056,084</td>\n",
       "      <td>4,781,297</td>\n",
       "      <td>7,386,155</td>\n",
       "      <td>5,314</td>\n",
       "      <td>2019</td>\n",
       "    </tr>\n",
       "    <tr>\n",
       "      <th>1</th>\n",
       "      <td>Total Students and Exchange Visitors</td>\n",
       "      <td>2,527,655</td>\n",
       "      <td>16,645</td>\n",
       "      <td>28,419</td>\n",
       "      <td>38,323</td>\n",
       "      <td>374,015</td>\n",
       "      <td>1,090,004</td>\n",
       "      <td>542,766</td>\n",
       "      <td>236,804</td>\n",
       "      <td>96,963</td>\n",
       "      <td>49,093</td>\n",
       "      <td>27,238</td>\n",
       "      <td>13,975</td>\n",
       "      <td>7,333</td>\n",
       "      <td>3,508</td>\n",
       "      <td>2,504</td>\n",
       "      <td>65</td>\n",
       "      <td>2019</td>\n",
       "    </tr>\n",
       "  </tbody>\n",
       "</table>\n",
       "</div>"
      ],
      "text/plain": [
       "                               Grouping       Total Under 5 years  \\\n",
       "0                     Total All Classes  81,563,139     1,430,271   \n",
       "1  Total Students and Exchange Visitors   2,527,655        16,645   \n",
       "\n",
       "  5 to 9 years 10 to 14 years 15 to 19 years 20 to 24 years 25 to 29 years  \\\n",
       "0    2,315,233      2,836,873      3,618,339      5,616,480      7,945,692   \n",
       "1       28,419         38,323        374,015      1,090,004        542,766   \n",
       "\n",
       "  30 to 34 years 35 to 39 years 40 to 44 years 45 to 49 years 50 to 54 years  \\\n",
       "0      8,777,437      8,205,852      7,812,450      7,736,403      7,039,259   \n",
       "1        236,804         96,963         49,093         27,238         13,975   \n",
       "\n",
       "  55 to 59 years 60 to 64 years 65 years and over Unknown age  Year  \n",
       "0      6,056,084      4,781,297         7,386,155       5,314  2019  \n",
       "1          7,333          3,508             2,504          65  2019  "
      ]
     },
     "execution_count": 20,
     "metadata": {},
     "output_type": "execute_result"
    }
   ],
   "source": [
    "df.head(2)"
   ]
  },
  {
   "cell_type": "code",
   "execution_count": 21,
   "id": "5fdcb020",
   "metadata": {},
   "outputs": [
    {
     "name": "stdout",
     "output_type": "stream",
     "text": [
      "<class 'pandas.core.frame.DataFrame'>\n",
      "RangeIndex: 18 entries, 0 to 17\n",
      "Data columns (total 18 columns):\n",
      " #   Column             Non-Null Count  Dtype \n",
      "---  ------             --------------  ----- \n",
      " 0   Grouping           18 non-null     object\n",
      " 1   Total              18 non-null     object\n",
      " 2   Under 5 years      18 non-null     object\n",
      " 3   5 to 9 years       18 non-null     object\n",
      " 4   10 to 14 years     18 non-null     object\n",
      " 5   15 to 19 years     18 non-null     object\n",
      " 6   20 to 24 years     18 non-null     object\n",
      " 7   25 to 29 years     18 non-null     object\n",
      " 8   30 to 34 years     18 non-null     object\n",
      " 9   35 to 39 years     18 non-null     object\n",
      " 10  40 to 44 years     18 non-null     object\n",
      " 11  45 to 49 years     18 non-null     object\n",
      " 12  50 to 54 years     18 non-null     object\n",
      " 13  55 to 59 years     18 non-null     object\n",
      " 14  60 to 64 years     18 non-null     object\n",
      " 15  65 years and over  18 non-null     object\n",
      " 16  Unknown age        18 non-null     object\n",
      " 17  Year               18 non-null     int64 \n",
      "dtypes: int64(1), object(17)\n",
      "memory usage: 2.7+ KB\n"
     ]
    }
   ],
   "source": [
    "df.info()"
   ]
  },
  {
   "cell_type": "code",
   "execution_count": 30,
   "id": "7a0a0260",
   "metadata": {},
   "outputs": [
    {
     "ename": "AttributeError",
     "evalue": "'SeriesGroupBy' object has no attribute 'pivot_table'",
     "output_type": "error",
     "traceback": [
      "\u001b[1;31m---------------------------------------------------------------------------\u001b[0m",
      "\u001b[1;31mAttributeError\u001b[0m                            Traceback (most recent call last)",
      "\u001b[1;32m<ipython-input-30-bf8c727dd1ca>\u001b[0m in \u001b[0;36m<module>\u001b[1;34m\u001b[0m\n\u001b[1;32m----> 1\u001b[1;33m \u001b[0mdf\u001b[0m\u001b[1;33m.\u001b[0m\u001b[0mpivot_table\u001b[0m\u001b[1;33m(\u001b[0m\u001b[1;34m'survived'\u001b[0m\u001b[1;33m,\u001b[0m \u001b[0mindex\u001b[0m\u001b[1;33m=\u001b[0m\u001b[1;34m'Grouping'\u001b[0m\u001b[1;33m,\u001b[0m \u001b[0mcolumns\u001b[0m\u001b[1;33m=\u001b[0m\u001b[1;34m'25 to 29 years'\u001b[0m\u001b[1;33m)\u001b[0m\u001b[1;33m\u001b[0m\u001b[1;33m\u001b[0m\u001b[0m\n\u001b[0m",
      "\u001b[1;32m~\\Anaconda3\\lib\\site-packages\\pandas\\core\\groupby\\groupby.py\u001b[0m in \u001b[0;36m__getattr__\u001b[1;34m(self, attr)\u001b[0m\n\u001b[0;32m    750\u001b[0m             \u001b[1;32mreturn\u001b[0m \u001b[0mself\u001b[0m\u001b[1;33m[\u001b[0m\u001b[0mattr\u001b[0m\u001b[1;33m]\u001b[0m\u001b[1;33m\u001b[0m\u001b[1;33m\u001b[0m\u001b[0m\n\u001b[0;32m    751\u001b[0m \u001b[1;33m\u001b[0m\u001b[0m\n\u001b[1;32m--> 752\u001b[1;33m         raise AttributeError(\n\u001b[0m\u001b[0;32m    753\u001b[0m             \u001b[1;34mf\"'{type(self).__name__}' object has no attribute '{attr}'\"\u001b[0m\u001b[1;33m\u001b[0m\u001b[1;33m\u001b[0m\u001b[0m\n\u001b[0;32m    754\u001b[0m         )\n",
      "\u001b[1;31mAttributeError\u001b[0m: 'SeriesGroupBy' object has no attribute 'pivot_table'"
     ]
    }
   ],
   "source": [
    "df.pivot_table('survived', index='Grouping', columns='25 to 29 years')"
   ]
  },
  {
   "cell_type": "code",
   "execution_count": 28,
   "id": "63df9cdc",
   "metadata": {},
   "outputs": [
    {
     "ename": "AttributeError",
     "evalue": "'SeriesGroupBy' object has no attribute 'groupby'",
     "output_type": "error",
     "traceback": [
      "\u001b[1;31m---------------------------------------------------------------------------\u001b[0m",
      "\u001b[1;31mAttributeError\u001b[0m                            Traceback (most recent call last)",
      "\u001b[1;32m<ipython-input-28-90822e846b66>\u001b[0m in \u001b[0;36m<module>\u001b[1;34m\u001b[0m\n\u001b[1;32m----> 1\u001b[1;33m \u001b[0mdf\u001b[0m\u001b[1;33m.\u001b[0m\u001b[0mgroupby\u001b[0m\u001b[1;33m(\u001b[0m\u001b[1;34m'Grouping'\u001b[0m\u001b[1;33m)\u001b[0m\u001b[1;33m[\u001b[0m\u001b[1;33m[\u001b[0m\u001b[1;34m'Total'\u001b[0m\u001b[1;33m]\u001b[0m\u001b[1;33m]\u001b[0m\u001b[1;33m.\u001b[0m\u001b[0mmean\u001b[0m\u001b[1;33m(\u001b[0m\u001b[1;33m)\u001b[0m\u001b[1;33m\u001b[0m\u001b[1;33m\u001b[0m\u001b[0m\n\u001b[0m",
      "\u001b[1;32m~\\Anaconda3\\lib\\site-packages\\pandas\\core\\groupby\\groupby.py\u001b[0m in \u001b[0;36m__getattr__\u001b[1;34m(self, attr)\u001b[0m\n\u001b[0;32m    750\u001b[0m             \u001b[1;32mreturn\u001b[0m \u001b[0mself\u001b[0m\u001b[1;33m[\u001b[0m\u001b[0mattr\u001b[0m\u001b[1;33m]\u001b[0m\u001b[1;33m\u001b[0m\u001b[1;33m\u001b[0m\u001b[0m\n\u001b[0;32m    751\u001b[0m \u001b[1;33m\u001b[0m\u001b[0m\n\u001b[1;32m--> 752\u001b[1;33m         raise AttributeError(\n\u001b[0m\u001b[0;32m    753\u001b[0m             \u001b[1;34mf\"'{type(self).__name__}' object has no attribute '{attr}'\"\u001b[0m\u001b[1;33m\u001b[0m\u001b[1;33m\u001b[0m\u001b[0m\n\u001b[0;32m    754\u001b[0m         )\n",
      "\u001b[1;31mAttributeError\u001b[0m: 'SeriesGroupBy' object has no attribute 'groupby'"
     ]
    }
   ],
   "source": [
    "df.groupby('Grouping')[['Total']].mean()\n"
   ]
  },
  {
   "cell_type": "code",
   "execution_count": null,
   "id": "2ff34f05",
   "metadata": {},
   "outputs": [],
   "source": []
  },
  {
   "cell_type": "code",
   "execution_count": null,
   "id": "f7cfff69",
   "metadata": {},
   "outputs": [],
   "source": []
  }
 ],
 "metadata": {
  "kernelspec": {
   "display_name": "Python 3",
   "language": "python",
   "name": "python3"
  },
  "language_info": {
   "codemirror_mode": {
    "name": "ipython",
    "version": 3
   },
   "file_extension": ".py",
   "mimetype": "text/x-python",
   "name": "python",
   "nbconvert_exporter": "python",
   "pygments_lexer": "ipython3",
   "version": "3.8.8"
  }
 },
 "nbformat": 4,
 "nbformat_minor": 5
}
