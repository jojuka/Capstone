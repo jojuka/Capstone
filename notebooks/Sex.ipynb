{
 "cells": [
  {
   "cell_type": "code",
   "execution_count": 45,
   "id": "2206c2bf",
   "metadata": {},
   "outputs": [],
   "source": [
    "import pandas as pd\n",
    "pd.options.display.float_format = '{:,.2f}'.format #this adds commas and limits decimals to 2 places\n",
    "import matplotlib.pyplot as plt"
   ]
  },
  {
   "cell_type": "code",
   "execution_count": 46,
   "id": "61795929",
   "metadata": {},
   "outputs": [],
   "source": [
    "df=pd.read_csv(r\"C:\\Users\\jojuk\\Documents\\git\\projects\\Capstone\\data\\AgeSex.csv\")"
   ]
  },
  {
   "cell_type": "code",
   "execution_count": 47,
   "id": "171b0f1f",
   "metadata": {},
   "outputs": [
    {
     "data": {
      "text/html": [
       "<div>\n",
       "<style scoped>\n",
       "    .dataframe tbody tr th:only-of-type {\n",
       "        vertical-align: middle;\n",
       "    }\n",
       "\n",
       "    .dataframe tbody tr th {\n",
       "        vertical-align: top;\n",
       "    }\n",
       "\n",
       "    .dataframe thead th {\n",
       "        text-align: right;\n",
       "    }\n",
       "</style>\n",
       "<table border=\"1\" class=\"dataframe\">\n",
       "  <thead>\n",
       "    <tr style=\"text-align: right;\">\n",
       "      <th></th>\n",
       "      <th>Sex</th>\n",
       "      <th>Year</th>\n",
       "      <th>Age</th>\n",
       "      <th>Student and Exchange</th>\n",
       "      <th>Unnamed: 4</th>\n",
       "    </tr>\n",
       "  </thead>\n",
       "  <tbody>\n",
       "    <tr>\n",
       "      <th>0</th>\n",
       "      <td>Female</td>\n",
       "      <td>2017</td>\n",
       "      <td>Under 5</td>\n",
       "      <td>8640</td>\n",
       "      <td>NaN</td>\n",
       "    </tr>\n",
       "    <tr>\n",
       "      <th>1</th>\n",
       "      <td>Female</td>\n",
       "      <td>2017</td>\n",
       "      <td>5 to 9</td>\n",
       "      <td>13756</td>\n",
       "      <td>NaN</td>\n",
       "    </tr>\n",
       "    <tr>\n",
       "      <th>2</th>\n",
       "      <td>Female</td>\n",
       "      <td>2017</td>\n",
       "      <td>10 to 14</td>\n",
       "      <td>18985</td>\n",
       "      <td>NaN</td>\n",
       "    </tr>\n",
       "    <tr>\n",
       "      <th>3</th>\n",
       "      <td>Female</td>\n",
       "      <td>2017</td>\n",
       "      <td>15 to 19</td>\n",
       "      <td>197236</td>\n",
       "      <td>NaN</td>\n",
       "    </tr>\n",
       "    <tr>\n",
       "      <th>4</th>\n",
       "      <td>Female</td>\n",
       "      <td>2017</td>\n",
       "      <td>20 to 24</td>\n",
       "      <td>540154</td>\n",
       "      <td>NaN</td>\n",
       "    </tr>\n",
       "  </tbody>\n",
       "</table>\n",
       "</div>"
      ],
      "text/plain": [
       "      Sex  Year       Age  Student and Exchange  Unnamed: 4\n",
       "0  Female  2017   Under 5                  8640         NaN\n",
       "1  Female  2017    5 to 9                 13756         NaN\n",
       "2  Female  2017  10 to 14                 18985         NaN\n",
       "3  Female  2017  15 to 19                197236         NaN\n",
       "4  Female  2017  20 to 24                540154         NaN"
      ]
     },
     "execution_count": 47,
     "metadata": {},
     "output_type": "execute_result"
    }
   ],
   "source": [
    "df.head(5)"
   ]
  },
  {
   "cell_type": "code",
   "execution_count": 48,
   "id": "5fdcb020",
   "metadata": {},
   "outputs": [
    {
     "name": "stdout",
     "output_type": "stream",
     "text": [
      "<class 'pandas.core.frame.DataFrame'>\n",
      "RangeIndex: 93 entries, 0 to 92\n",
      "Data columns (total 5 columns):\n",
      " #   Column                Non-Null Count  Dtype  \n",
      "---  ------                --------------  -----  \n",
      " 0   Sex                   93 non-null     object \n",
      " 1   Year                  93 non-null     int64  \n",
      " 2   Age                   90 non-null     object \n",
      " 3   Student and Exchange  93 non-null     int64  \n",
      " 4   Unnamed: 4            0 non-null      float64\n",
      "dtypes: float64(1), int64(2), object(2)\n",
      "memory usage: 3.8+ KB\n"
     ]
    }
   ],
   "source": [
    "df.info()"
   ]
  },
  {
   "cell_type": "code",
   "execution_count": 49,
   "id": "d88c3eb9",
   "metadata": {},
   "outputs": [],
   "source": [
    "df.dropna(how='all', axis=1, inplace=True)\n"
   ]
  },
  {
   "cell_type": "code",
   "execution_count": 50,
   "id": "a86ba14d",
   "metadata": {},
   "outputs": [
    {
     "data": {
      "text/html": [
       "<div>\n",
       "<style scoped>\n",
       "    .dataframe tbody tr th:only-of-type {\n",
       "        vertical-align: middle;\n",
       "    }\n",
       "\n",
       "    .dataframe tbody tr th {\n",
       "        vertical-align: top;\n",
       "    }\n",
       "\n",
       "    .dataframe thead th {\n",
       "        text-align: right;\n",
       "    }\n",
       "</style>\n",
       "<table border=\"1\" class=\"dataframe\">\n",
       "  <thead>\n",
       "    <tr style=\"text-align: right;\">\n",
       "      <th></th>\n",
       "      <th>Sex</th>\n",
       "      <th>Year</th>\n",
       "      <th>Student and Exchange</th>\n",
       "    </tr>\n",
       "  </thead>\n",
       "  <tbody>\n",
       "    <tr>\n",
       "      <th>0</th>\n",
       "      <td>Female</td>\n",
       "      <td>2017</td>\n",
       "      <td>8640</td>\n",
       "    </tr>\n",
       "    <tr>\n",
       "      <th>1</th>\n",
       "      <td>Female</td>\n",
       "      <td>2017</td>\n",
       "      <td>13756</td>\n",
       "    </tr>\n",
       "    <tr>\n",
       "      <th>2</th>\n",
       "      <td>Female</td>\n",
       "      <td>2017</td>\n",
       "      <td>18985</td>\n",
       "    </tr>\n",
       "    <tr>\n",
       "      <th>3</th>\n",
       "      <td>Female</td>\n",
       "      <td>2017</td>\n",
       "      <td>197236</td>\n",
       "    </tr>\n",
       "    <tr>\n",
       "      <th>4</th>\n",
       "      <td>Female</td>\n",
       "      <td>2017</td>\n",
       "      <td>540154</td>\n",
       "    </tr>\n",
       "    <tr>\n",
       "      <th>...</th>\n",
       "      <td>...</td>\n",
       "      <td>...</td>\n",
       "      <td>...</td>\n",
       "    </tr>\n",
       "    <tr>\n",
       "      <th>88</th>\n",
       "      <td>Male</td>\n",
       "      <td>2019</td>\n",
       "      <td>4599</td>\n",
       "    </tr>\n",
       "    <tr>\n",
       "      <th>89</th>\n",
       "      <td>Male</td>\n",
       "      <td>2019</td>\n",
       "      <td>2191</td>\n",
       "    </tr>\n",
       "    <tr>\n",
       "      <th>90</th>\n",
       "      <td>Male</td>\n",
       "      <td>2019</td>\n",
       "      <td>1775</td>\n",
       "    </tr>\n",
       "    <tr>\n",
       "      <th>91</th>\n",
       "      <td>Male</td>\n",
       "      <td>2019</td>\n",
       "      <td>30</td>\n",
       "    </tr>\n",
       "    <tr>\n",
       "      <th>92</th>\n",
       "      <td>Unknown sex</td>\n",
       "      <td>2019</td>\n",
       "      <td>68</td>\n",
       "    </tr>\n",
       "  </tbody>\n",
       "</table>\n",
       "<p>93 rows × 3 columns</p>\n",
       "</div>"
      ],
      "text/plain": [
       "            Sex  Year  Student and Exchange\n",
       "0        Female  2017                  8640\n",
       "1        Female  2017                 13756\n",
       "2        Female  2017                 18985\n",
       "3        Female  2017                197236\n",
       "4        Female  2017                540154\n",
       "..          ...   ...                   ...\n",
       "88         Male  2019                  4599\n",
       "89         Male  2019                  2191\n",
       "90         Male  2019                  1775\n",
       "91         Male  2019                    30\n",
       "92  Unknown sex  2019                    68\n",
       "\n",
       "[93 rows x 3 columns]"
      ]
     },
     "execution_count": 50,
     "metadata": {},
     "output_type": "execute_result"
    }
   ],
   "source": [
    "SexYear=df.drop(columns=['Age'])\n",
    "SexYear"
   ]
  },
  {
   "cell_type": "markdown",
   "id": "3546eb3f",
   "metadata": {},
   "source": [
    "**Getting totals of Students and Exchange Visitors by Gender by Year"
   ]
  },
  {
   "cell_type": "code",
   "execution_count": 53,
   "id": "d290ecc8",
   "metadata": {},
   "outputs": [
    {
     "data": {
      "text/html": [
       "<div>\n",
       "<style scoped>\n",
       "    .dataframe tbody tr th:only-of-type {\n",
       "        vertical-align: middle;\n",
       "    }\n",
       "\n",
       "    .dataframe tbody tr th {\n",
       "        vertical-align: top;\n",
       "    }\n",
       "\n",
       "    .dataframe thead th {\n",
       "        text-align: right;\n",
       "    }\n",
       "</style>\n",
       "<table border=\"1\" class=\"dataframe\">\n",
       "  <thead>\n",
       "    <tr style=\"text-align: right;\">\n",
       "      <th></th>\n",
       "      <th></th>\n",
       "      <th>Student and Exchange</th>\n",
       "    </tr>\n",
       "    <tr>\n",
       "      <th>Sex</th>\n",
       "      <th>Year</th>\n",
       "      <th></th>\n",
       "    </tr>\n",
       "  </thead>\n",
       "  <tbody>\n",
       "    <tr>\n",
       "      <th rowspan=\"3\" valign=\"top\">Female</th>\n",
       "      <th>2017</th>\n",
       "      <td>1222738</td>\n",
       "    </tr>\n",
       "    <tr>\n",
       "      <th>2018</th>\n",
       "      <td>1244790</td>\n",
       "    </tr>\n",
       "    <tr>\n",
       "      <th>2019</th>\n",
       "      <td>1227896</td>\n",
       "    </tr>\n",
       "    <tr>\n",
       "      <th rowspan=\"3\" valign=\"top\">Male</th>\n",
       "      <th>2017</th>\n",
       "      <td>1310750</td>\n",
       "    </tr>\n",
       "    <tr>\n",
       "      <th>2018</th>\n",
       "      <td>1324327</td>\n",
       "    </tr>\n",
       "    <tr>\n",
       "      <th>2019</th>\n",
       "      <td>1299691</td>\n",
       "    </tr>\n",
       "    <tr>\n",
       "      <th rowspan=\"3\" valign=\"top\">Unknown sex</th>\n",
       "      <th>2017</th>\n",
       "      <td>868</td>\n",
       "    </tr>\n",
       "    <tr>\n",
       "      <th>2018</th>\n",
       "      <td>108</td>\n",
       "    </tr>\n",
       "    <tr>\n",
       "      <th>2019</th>\n",
       "      <td>68</td>\n",
       "    </tr>\n",
       "  </tbody>\n",
       "</table>\n",
       "</div>"
      ],
      "text/plain": [
       "                  Student and Exchange\n",
       "Sex         Year                      \n",
       "Female      2017               1222738\n",
       "            2018               1244790\n",
       "            2019               1227896\n",
       "Male        2017               1310750\n",
       "            2018               1324327\n",
       "            2019               1299691\n",
       "Unknown sex 2017                   868\n",
       "            2018                   108\n",
       "            2019                    68"
      ]
     },
     "execution_count": 53,
     "metadata": {},
     "output_type": "execute_result"
    }
   ],
   "source": [
    "SETotalsbSexYear=SexYear.groupby(['Sex', 'Year'])[['Student and Exchange']].sum()\n",
    "SETotalsbSexYear"
   ]
  },
  {
   "cell_type": "code",
   "execution_count": 74,
   "id": "70d854fb",
   "metadata": {},
   "outputs": [
    {
     "data": {
      "text/html": [
       "<div>\n",
       "<style scoped>\n",
       "    .dataframe tbody tr th:only-of-type {\n",
       "        vertical-align: middle;\n",
       "    }\n",
       "\n",
       "    .dataframe tbody tr th {\n",
       "        vertical-align: top;\n",
       "    }\n",
       "\n",
       "    .dataframe thead th {\n",
       "        text-align: right;\n",
       "    }\n",
       "</style>\n",
       "<table border=\"1\" class=\"dataframe\">\n",
       "  <thead>\n",
       "    <tr style=\"text-align: right;\">\n",
       "      <th></th>\n",
       "      <th>Sex</th>\n",
       "      <th>Year</th>\n",
       "      <th>Student and Exchange</th>\n",
       "    </tr>\n",
       "  </thead>\n",
       "  <tbody>\n",
       "    <tr>\n",
       "      <th>0</th>\n",
       "      <td>Female</td>\n",
       "      <td>2017</td>\n",
       "      <td>1222738</td>\n",
       "    </tr>\n",
       "    <tr>\n",
       "      <th>1</th>\n",
       "      <td>Female</td>\n",
       "      <td>2018</td>\n",
       "      <td>1244790</td>\n",
       "    </tr>\n",
       "    <tr>\n",
       "      <th>2</th>\n",
       "      <td>Female</td>\n",
       "      <td>2019</td>\n",
       "      <td>1227896</td>\n",
       "    </tr>\n",
       "    <tr>\n",
       "      <th>3</th>\n",
       "      <td>Male</td>\n",
       "      <td>2017</td>\n",
       "      <td>1310750</td>\n",
       "    </tr>\n",
       "    <tr>\n",
       "      <th>4</th>\n",
       "      <td>Male</td>\n",
       "      <td>2018</td>\n",
       "      <td>1324327</td>\n",
       "    </tr>\n",
       "    <tr>\n",
       "      <th>5</th>\n",
       "      <td>Male</td>\n",
       "      <td>2019</td>\n",
       "      <td>1299691</td>\n",
       "    </tr>\n",
       "    <tr>\n",
       "      <th>6</th>\n",
       "      <td>Unknown sex</td>\n",
       "      <td>2017</td>\n",
       "      <td>868</td>\n",
       "    </tr>\n",
       "    <tr>\n",
       "      <th>7</th>\n",
       "      <td>Unknown sex</td>\n",
       "      <td>2018</td>\n",
       "      <td>108</td>\n",
       "    </tr>\n",
       "    <tr>\n",
       "      <th>8</th>\n",
       "      <td>Unknown sex</td>\n",
       "      <td>2019</td>\n",
       "      <td>68</td>\n",
       "    </tr>\n",
       "  </tbody>\n",
       "</table>\n",
       "</div>"
      ],
      "text/plain": [
       "           Sex  Year  Student and Exchange\n",
       "0       Female  2017               1222738\n",
       "1       Female  2018               1244790\n",
       "2       Female  2019               1227896\n",
       "3         Male  2017               1310750\n",
       "4         Male  2018               1324327\n",
       "5         Male  2019               1299691\n",
       "6  Unknown sex  2017                   868\n",
       "7  Unknown sex  2018                   108\n",
       "8  Unknown sex  2019                    68"
      ]
     },
     "execution_count": 74,
     "metadata": {},
     "output_type": "execute_result"
    }
   ],
   "source": [
    "df.groupby(['Sex','Year'], as_index=False).sum()"
   ]
  },
  {
   "cell_type": "code",
   "execution_count": 106,
   "id": "f661d6cb",
   "metadata": {},
   "outputs": [
    {
     "data": {
      "image/png": "[encoded data removed]",
      "text/plain": [
       "<Figure size 432x288 with 1 Axes>"
      ]
     },
     "metadata": {
      "needs_background": "light"
     },
     "output_type": "display_data"
    }
   ],
   "source": [
    "# create data\n",
    "x = ['2017', '2018', '2019']\n",
    "y1 = [1222738, 1244790, 1227896]\n",
    "y2 = [1310750, 1324327, 1299691]\n",
    "y3 = [868, 108, 68]\n",
    "\n",
    "# plot bars in stack manner\n",
    "plt.bar(x, y1, color='r')\n",
    "plt.bar(x, y2, bottom=y1, color='b')\n",
    "plt.bar(x, y3, bottom=y1, color='c')\n",
    "\n",
    "#plt.ticklabel_format(style='plain') #to remove scientific chart notation\n",
    "plt.gcf().axes[0].yaxis.get_major_formatter().set_scientific(False)#to remove scientific notation\n",
    "\n",
    "plt.show()"
   ]
  },
  {
   "cell_type": "code",
   "execution_count": 97,
   "id": "447ab3af",
   "metadata": {},
   "outputs": [
    {
     "data": {
      "image/png": "[encoded data removed]",
      "text/plain": [
       "<Figure size 432x288 with 1 Axes>"
      ]
     },
     "metadata": {
      "needs_background": "light"
     },
     "output_type": "display_data"
    }
   ],
   "source": [
    "import numpy as np\n",
    "\n",
    "plt.figsize=(8, 6)\n",
    "\n",
    "# create data\n",
    "x = ['2017', '2018', '2019']\n",
    "y1 = np.array([1222738, 1244790, 1227896])\n",
    "y2 = np.array([1310750, 1324327, 1299691])\n",
    "\n",
    "  \n",
    "# plot bars in stack manner\n",
    "plt.bar(x, y1, color='#37aba6')\n",
    "plt.bar(x, y2, bottom=y1, color='#8bb5d9')\n",
    "plt.xlabel(\"Year\", fontsize=12)\n",
    "plt.ylabel(\"Number of Admissions\", fontsize=12)\n",
    "plt.legend([\"Female\", \"Male\"])\n",
    "plt.title(\"U.S. Students and Exchange Students by Gender, 2017 to 2019\")\n",
    "\n",
    "plt.gcf().axes[0].yaxis.get_major_formatter().set_scientific(False)#to remove scientific notation\n",
    "\n",
    "\n",
    "plt.show()"
   ]
  },
  {
   "cell_type": "code",
   "execution_count": 7,
   "id": "2c3a686f",
   "metadata": {},
   "outputs": [],
   "source": [
    "#df.groupby(['Sex'])['Year'].sum()"
   ]
  },
  {
   "cell_type": "code",
   "execution_count": 9,
   "id": "b83de7df",
   "metadata": {},
   "outputs": [
    {
     "data": {
      "text/html": [
       "<div>\n",
       "<style scoped>\n",
       "    .dataframe tbody tr th:only-of-type {\n",
       "        vertical-align: middle;\n",
       "    }\n",
       "\n",
       "    .dataframe tbody tr th {\n",
       "        vertical-align: top;\n",
       "    }\n",
       "\n",
       "    .dataframe thead th {\n",
       "        text-align: right;\n",
       "    }\n",
       "</style>\n",
       "<table border=\"1\" class=\"dataframe\">\n",
       "  <thead>\n",
       "    <tr style=\"text-align: right;\">\n",
       "      <th></th>\n",
       "      <th>Sex</th>\n",
       "      <th>Year</th>\n",
       "      <th>Age</th>\n",
       "      <th>Student and Exchange</th>\n",
       "    </tr>\n",
       "  </thead>\n",
       "  <tbody>\n",
       "    <tr>\n",
       "      <th>15</th>\n",
       "      <td>Male</td>\n",
       "      <td>2017</td>\n",
       "      <td>Under 5</td>\n",
       "      <td>9,138</td>\n",
       "    </tr>\n",
       "    <tr>\n",
       "      <th>16</th>\n",
       "      <td>Male</td>\n",
       "      <td>2017</td>\n",
       "      <td>5 to 9</td>\n",
       "      <td>14,544</td>\n",
       "    </tr>\n",
       "    <tr>\n",
       "      <th>17</th>\n",
       "      <td>Male</td>\n",
       "      <td>2017</td>\n",
       "      <td>10 to 14</td>\n",
       "      <td>19,604</td>\n",
       "    </tr>\n",
       "    <tr>\n",
       "      <th>18</th>\n",
       "      <td>Male</td>\n",
       "      <td>2017</td>\n",
       "      <td>15 to 19</td>\n",
       "      <td>207,631</td>\n",
       "    </tr>\n",
       "    <tr>\n",
       "      <th>19</th>\n",
       "      <td>Male</td>\n",
       "      <td>2017</td>\n",
       "      <td>20 to 24</td>\n",
       "      <td>554,138</td>\n",
       "    </tr>\n",
       "  </tbody>\n",
       "</table>\n",
       "</div>"
      ],
      "text/plain": [
       "     Sex  Year       Age Student and Exchange\n",
       "15  Male  2017   Under 5                9,138\n",
       "16  Male  2017    5 to 9               14,544\n",
       "17  Male  2017  10 to 14               19,604\n",
       "18  Male  2017  15 to 19              207,631\n",
       "19  Male  2017  20 to 24              554,138"
      ]
     },
     "execution_count": 9,
     "metadata": {},
     "output_type": "execute_result"
    }
   ],
   "source": [
    "Male=df[df['Sex']=='Male']\n",
    "Male.head()"
   ]
  },
  {
   "cell_type": "code",
   "execution_count": 8,
   "id": "ba0088e2",
   "metadata": {},
   "outputs": [
    {
     "data": {
      "text/html": [
       "<div>\n",
       "<style scoped>\n",
       "    .dataframe tbody tr th:only-of-type {\n",
       "        vertical-align: middle;\n",
       "    }\n",
       "\n",
       "    .dataframe tbody tr th {\n",
       "        vertical-align: top;\n",
       "    }\n",
       "\n",
       "    .dataframe thead th {\n",
       "        text-align: right;\n",
       "    }\n",
       "</style>\n",
       "<table border=\"1\" class=\"dataframe\">\n",
       "  <thead>\n",
       "    <tr style=\"text-align: right;\">\n",
       "      <th></th>\n",
       "      <th>Sex</th>\n",
       "      <th>Year</th>\n",
       "      <th>Age</th>\n",
       "      <th>Student and Exchange</th>\n",
       "    </tr>\n",
       "  </thead>\n",
       "  <tbody>\n",
       "    <tr>\n",
       "      <th>0</th>\n",
       "      <td>Female</td>\n",
       "      <td>2017</td>\n",
       "      <td>Under 5</td>\n",
       "      <td>8,640</td>\n",
       "    </tr>\n",
       "    <tr>\n",
       "      <th>1</th>\n",
       "      <td>Female</td>\n",
       "      <td>2017</td>\n",
       "      <td>5 to 9</td>\n",
       "      <td>13,756</td>\n",
       "    </tr>\n",
       "    <tr>\n",
       "      <th>2</th>\n",
       "      <td>Female</td>\n",
       "      <td>2017</td>\n",
       "      <td>10 to 14</td>\n",
       "      <td>18,985</td>\n",
       "    </tr>\n",
       "    <tr>\n",
       "      <th>3</th>\n",
       "      <td>Female</td>\n",
       "      <td>2017</td>\n",
       "      <td>15 to 19</td>\n",
       "      <td>197,236</td>\n",
       "    </tr>\n",
       "    <tr>\n",
       "      <th>4</th>\n",
       "      <td>Female</td>\n",
       "      <td>2017</td>\n",
       "      <td>20 to 24</td>\n",
       "      <td>540,154</td>\n",
       "    </tr>\n",
       "  </tbody>\n",
       "</table>\n",
       "</div>"
      ],
      "text/plain": [
       "      Sex  Year       Age Student and Exchange\n",
       "0  Female  2017   Under 5                8,640\n",
       "1  Female  2017    5 to 9               13,756\n",
       "2  Female  2017  10 to 14               18,985\n",
       "3  Female  2017  15 to 19              197,236\n",
       "4  Female  2017  20 to 24              540,154"
      ]
     },
     "execution_count": 8,
     "metadata": {},
     "output_type": "execute_result"
    }
   ],
   "source": [
    "Female=df[df['Sex']=='Female']\n",
    "Female.head()"
   ]
  },
  {
   "cell_type": "code",
   "execution_count": 104,
   "id": "e2567fba",
   "metadata": {},
   "outputs": [],
   "source": [
    "df.replace(\"Under 5\", \n",
    "           \"0-5\", \n",
    "           inplace=True)"
   ]
  },
  {
   "cell_type": "code",
   "execution_count": 113,
   "id": "0c48493d",
   "metadata": {},
   "outputs": [
    {
     "data": {
      "image/png": "[encoded data removed]",
      "text/plain": [
       "<Figure size 432x288 with 1 Axes>"
      ]
     },
     "metadata": {
      "needs_background": "light"
     },
     "output_type": "display_data"
    }
   ],
   "source": [
    "\n",
    "df.groupby(['Age'])['Student and Exchange'].sum().plot.bar(stacked=True, color='#37aba6')\n",
    "plt.title(\"U.S. Students and Exchange Students by Age, 2017 to 2019\")\n",
    "plt.ylabel(\"Number of Admissions\", fontsize=12)\n",
    "\n",
    "plt.gcf().axes[0].yaxis.get_major_formatter().set_scientific(False)#to remove scientific notation\n"
   ]
  },
  {
   "cell_type": "code",
   "execution_count": 110,
   "id": "701b2ed1",
   "metadata": {
    "scrolled": true
   },
   "outputs": [
    {
     "data": {
      "image/png": "[encoded data removed]",
      "text/plain": [
       "<Figure size 432x288 with 1 Axes>"
      ]
     },
     "metadata": {
      "needs_background": "light"
     },
     "output_type": "display_data"
    }
   ],
   "source": [
    "df.groupby(['Sex', 'Age'])['Student and Exchange'].sum().plot.bar(stacked=True)\n",
    "plt.gcf().axes[0].yaxis.get_major_formatter().set_scientific(False)#to remove scientific notation\n"
   ]
  },
  {
   "cell_type": "code",
   "execution_count": null,
   "id": "2aa2e191",
   "metadata": {},
   "outputs": [],
   "source": []
  },
  {
   "cell_type": "code",
   "execution_count": null,
   "id": "2ff34f05",
   "metadata": {},
   "outputs": [],
   "source": []
  },
  {
   "cell_type": "code",
   "execution_count": null,
   "id": "f7cfff69",
   "metadata": {},
   "outputs": [],
   "source": []
  }
 ],
 "metadata": {
  "kernelspec": {
   "display_name": "Python 3 (ipykernel)",
   "language": "python",
   "name": "python3"
  },
  "language_info": {
   "codemirror_mode": {
    "name": "ipython",
    "version": 3
   },
   "file_extension": ".py",
   "mimetype": "text/x-python",
   "name": "python",
   "nbconvert_exporter": "python",
   "pygments_lexer": "ipython3",
   "version": "3.8.5"
  }
 },
 "nbformat": 4,
 "nbformat_minor": 5
}
